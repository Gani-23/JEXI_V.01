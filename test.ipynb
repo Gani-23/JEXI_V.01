{
 "cells": [
  {
   "cell_type": "code",
   "execution_count": 6,
   "metadata": {},
   "outputs": [],
   "source": [
    "import sys\n",
    "from fer import FER\n",
    "import os\n",
    "import time\n",
    "import matplotlib.pyplot as plt \n",
    "import random \n",
    "import json \n",
    "import pickle\n",
    "from sys import maxsize\n",
    "import numpy as np \n",
    "import nltk \n",
    "from nltk.stem import WordNetLemmatizer\n",
    "from regex import W\n",
    "import tensorflow\n",
    "import pyttsx3 \n",
    "import speech_recognition as sr\n",
    "import selenium\n",
    "import sys, os\n",
    "import pywhatkit\n",
    "\n",
    "from selenium import webdriver as wd \n",
    "from functools import lru_cache\n",
    "isenabled = True\n",
    "lru_cache(maxsize=10000)\n",
    "import tensorflow\n",
    "from tensorflow.keras.models import load_model\n",
    "import pywhatkit as kit\n",
    "\n",
    "listener = sr.Recognizer()\n",
    "lemmatizer = WordNetLemmatizer()\n",
    "intents = json.loads(open('intents.json').read())\n",
    "words = pickle.load(open('words.pkl','rb'))\n",
    "classes = pickle.load(open('classes.pkl','rb'))\n",
    "model = load_model('chatbot_model.h5')\n",
    "roro = pyttsx3.init('sapi5')\n",
    "voices = roro.getProperty('voices')\n",
    "roro.setProperty('voice',voices[1].id)\n",
    "\n",
    "def speak(audio):\n",
    "    roro.say(audio)\n",
    "    roro.runAndWait()\n",
    "    lru_cache(maxsize=500, typed=True)\n",
    "    \n",
    "def recognisecommand():\n",
    "    speak(\"listening\")\n",
    "    with sr.Microphone() as source:\n",
    "        listener.adjust_for_ambient_noise(source,duration=7)\n",
    "        voice = listener.listen(source)\n",
    "        command = listener.recognize_google(voice)\n",
    "        command = command.lower()\n",
    "        print(command)\n",
    "\n",
    "\n",
    "recognisecommand()"
   ]
  }
 ],
 "metadata": {
  "kernelspec": {
   "display_name": "Python 3.8.10 64-bit (windows store)",
   "language": "python",
   "name": "python3"
  },
  "language_info": {
   "codemirror_mode": {
    "name": "ipython",
    "version": 3
   },
   "file_extension": ".py",
   "mimetype": "text/x-python",
   "name": "python",
   "nbconvert_exporter": "python",
   "pygments_lexer": "ipython3",
   "version": "3.8.10"
  },
  "orig_nbformat": 4,
  "vscode": {
   "interpreter": {
    "hash": "ba996a73a93ce375d36e4f32acdf16f82750bfcd163623a852c7ef32e52eda27"
   }
  }
 },
 "nbformat": 4,
 "nbformat_minor": 2
}
